{
  "nbformat": 4,
  "nbformat_minor": 0,
  "metadata": {
    "colab": {
      "provenance": [],
      "authorship_tag": "ABX9TyPXfjOYdt+KSx1tuGJ3IcBd",
      "include_colab_link": true
    },
    "kernelspec": {
      "name": "python3",
      "display_name": "Python 3"
    },
    "language_info": {
      "name": "python"
    }
  },
  "cells": [
    {
      "cell_type": "markdown",
      "metadata": {
        "id": "view-in-github",
        "colab_type": "text"
      },
      "source": [
        "<a href=\"https://colab.research.google.com/github/KSNUJHC/BP_05_Ch10/blob/main/BP_05_EX_Ch10.ipynb\" target=\"_parent\"><img src=\"https://colab.research.google.com/assets/colab-badge.svg\" alt=\"Open In Colab\"/></a>"
      ]
    },
    {
      "cell_type": "code",
      "execution_count": 1,
      "metadata": {
        "colab": {
          "base_uri": "https://localhost:8080/",
          "height": 376
        },
        "id": "OivDZDzg_CCw",
        "outputId": "5b12aa0d-7f8d-420d-b745-caf51c4b67d0"
      },
      "outputs": [
        {
          "output_type": "error",
          "ename": "TclError",
          "evalue": "ignored",
          "traceback": [
            "\u001b[0;31m---------------------------------------------------------------------------\u001b[0m",
            "\u001b[0;31mTclError\u001b[0m                                  Traceback (most recent call last)",
            "\u001b[0;32m<ipython-input-1-3282cbac6559>\u001b[0m in \u001b[0;36m<module>\u001b[0;34m\u001b[0m\n\u001b[1;32m      3\u001b[0m   \u001b[0mprint\u001b[0m\u001b[0;34m(\u001b[0m\u001b[0;34m\"파이썬에 오신 것을 환영합니다. \"\u001b[0m\u001b[0;34m)\u001b[0m\u001b[0;34m\u001b[0m\u001b[0;34m\u001b[0m\u001b[0m\n\u001b[1;32m      4\u001b[0m \u001b[0;34m\u001b[0m\u001b[0m\n\u001b[0;32m----> 5\u001b[0;31m \u001b[0mwindow\u001b[0m \u001b[0;34m=\u001b[0m \u001b[0mTk\u001b[0m\u001b[0;34m(\u001b[0m\u001b[0;34m)\u001b[0m\u001b[0;34m\u001b[0m\u001b[0;34m\u001b[0m\u001b[0m\n\u001b[0m\u001b[1;32m      6\u001b[0m \u001b[0mlabel\u001b[0m \u001b[0;34m=\u001b[0m \u001b[0mLabel\u001b[0m\u001b[0;34m(\u001b[0m\u001b[0mwindow\u001b[0m\u001b[0;34m,\u001b[0m \u001b[0mtext\u001b[0m\u001b[0;34m=\u001b[0m\u001b[0;34m\"간단한 GUI 프로그램!\"\u001b[0m\u001b[0;34m)\u001b[0m\u001b[0;34m\u001b[0m\u001b[0;34m\u001b[0m\u001b[0m\n\u001b[1;32m      7\u001b[0m \u001b[0mlabel\u001b[0m\u001b[0;34m.\u001b[0m\u001b[0mpack\u001b[0m\u001b[0;34m(\u001b[0m\u001b[0;34m)\u001b[0m\u001b[0;34m\u001b[0m\u001b[0;34m\u001b[0m\u001b[0m\n",
            "\u001b[0;32m/usr/lib/python3.7/tkinter/__init__.py\u001b[0m in \u001b[0;36m__init__\u001b[0;34m(self, screenName, baseName, className, useTk, sync, use)\u001b[0m\n\u001b[1;32m   2021\u001b[0m                 \u001b[0mbaseName\u001b[0m \u001b[0;34m=\u001b[0m \u001b[0mbaseName\u001b[0m \u001b[0;34m+\u001b[0m \u001b[0mext\u001b[0m\u001b[0;34m\u001b[0m\u001b[0;34m\u001b[0m\u001b[0m\n\u001b[1;32m   2022\u001b[0m         \u001b[0minteractive\u001b[0m \u001b[0;34m=\u001b[0m \u001b[0;36m0\u001b[0m\u001b[0;34m\u001b[0m\u001b[0;34m\u001b[0m\u001b[0m\n\u001b[0;32m-> 2023\u001b[0;31m         \u001b[0mself\u001b[0m\u001b[0;34m.\u001b[0m\u001b[0mtk\u001b[0m \u001b[0;34m=\u001b[0m \u001b[0m_tkinter\u001b[0m\u001b[0;34m.\u001b[0m\u001b[0mcreate\u001b[0m\u001b[0;34m(\u001b[0m\u001b[0mscreenName\u001b[0m\u001b[0;34m,\u001b[0m \u001b[0mbaseName\u001b[0m\u001b[0;34m,\u001b[0m \u001b[0mclassName\u001b[0m\u001b[0;34m,\u001b[0m \u001b[0minteractive\u001b[0m\u001b[0;34m,\u001b[0m \u001b[0mwantobjects\u001b[0m\u001b[0;34m,\u001b[0m \u001b[0museTk\u001b[0m\u001b[0;34m,\u001b[0m \u001b[0msync\u001b[0m\u001b[0;34m,\u001b[0m \u001b[0muse\u001b[0m\u001b[0;34m)\u001b[0m\u001b[0;34m\u001b[0m\u001b[0;34m\u001b[0m\u001b[0m\n\u001b[0m\u001b[1;32m   2024\u001b[0m         \u001b[0;32mif\u001b[0m \u001b[0museTk\u001b[0m\u001b[0;34m:\u001b[0m\u001b[0;34m\u001b[0m\u001b[0;34m\u001b[0m\u001b[0m\n\u001b[1;32m   2025\u001b[0m             \u001b[0mself\u001b[0m\u001b[0;34m.\u001b[0m\u001b[0m_loadtk\u001b[0m\u001b[0;34m(\u001b[0m\u001b[0;34m)\u001b[0m\u001b[0;34m\u001b[0m\u001b[0;34m\u001b[0m\u001b[0m\n",
            "\u001b[0;31mTclError\u001b[0m: no display name and no $DISPLAY environment variable"
          ]
        }
      ],
      "source": [
        "from tkinter import Tk, Label, Button\n",
        "def greet():\n",
        "  print(\"파이썬에 오신 것을 환영합니다. \")\n",
        "\n",
        "window = Tk()\n",
        "label = Label(window, text=\"간단한 GUI 프로그램!\")\n",
        "label.pack()\n",
        "\n",
        "greet_button = Button(window, text=\"환영합니다.\", command=greet)\n",
        "greet_button.pack()\n",
        "\n",
        "close_button = Button(window, text=\"종료\", command=window.quit)\n",
        "close_button.pack()\n",
        "\n",
        "window.mainloop()\n"
      ]
    },
    {
      "cell_type": "code",
      "source": [
        "from tkinter import Tk, Label, Button, Entry, IntVar, END, W, E\n",
        "\n",
        "def update_add():\n",
        "  update(\"add\")\n",
        "\n",
        "def update_subtract():\n",
        "  update(\"subtract\")\n",
        "\n",
        "def update_reset():\n",
        "  update(\"reset\")\n",
        "  \n",
        "window = Tk()\n",
        "total = 0\n",
        "sum = Label(window)\n",
        "sum.grid(row=0, column=1, columnspan=2)\n",
        "\n",
        "label = Label(window, text=\"현재 합계:\")\n",
        "label.grid(row=0, column=0)\n",
        "\n",
        "entry = Entry(window)\n",
        "entry.grid(row=1, column=0, columnspan=3)\n",
        "\n",
        "add_button = Button(window, text=\"더하기(+)\", command=update_add)\n",
        "subtract_button = Button(window, text=\"빼기(-)\", command=update_subtract)\n",
        "reset_button = Button(window, text=\"초기화\", command=update_reset)\n",
        "\n",
        "add_button.grid(row=2, column=0)\n",
        "subtract_button.grid(row=2, column=1)\n",
        "reset_button.grid(row=2, column=2)\n",
        "\n",
        "def update(method):\n",
        "  global total\n",
        "  if method == \"add\":\n",
        "    total += int(entry.get())\n",
        "  elif method == \"subtract\":\n",
        "    total -= int(entry.get())\n",
        "  else:\n",
        "    total = 0\n",
        "  sum['text'] = str(total)\n",
        "  entry.delete(0, END)\n",
        "\n",
        "window.mainloop()"
      ],
      "metadata": {
        "id": "NLrFtVbpNKzp"
      },
      "execution_count": null,
      "outputs": []
    },
    {
      "cell_type": "code",
      "source": [
        "import random\n",
        "from tkinter import *\n",
        "\n",
        "window = Tk()\n",
        "secret_number = random.randint(1, 100)\n",
        "guess = None\n",
        "num_guesses = 0\n",
        "\n",
        "def guess_number():\n",
        "  global num_guesses\n",
        "  guess = int(entry.get())\n",
        "  num_guesses += 1\n",
        "  if guess == secret_number:\n",
        "    message = \"축하합니다!!\"\n",
        "  elif guess < secret_number:\n",
        "    message = \"너무 낮아요!!\"\n",
        "  else:\n",
        "    message = \"너무 높아요!!\"\n",
        "  label['text']= message\n",
        "\n",
        "def reset():\n",
        "  global num_guesses\n",
        "  entry.delete(0, END)\n",
        "  secret_number = random.randint(1, 100)\n",
        "  guess = 0\n",
        "  num_guesses = 0\n",
        "  message = \"1부터 100사이의 숫자를 추측하시오\"\n",
        "  label['text']= message\n",
        "\n",
        "message = \"1부터 100사이의 숫자를 추측하시오\"\n",
        "label = Label(window, text=message)\n",
        "entry = Entry(window)\n",
        "\n",
        "guess_button = Button(window, text=\"숫자를 입력\", command=guess_number)\n",
        "reset_button = Button(window, text=\"게임을 다시 실행\", command=reset)\n",
        "\n",
        "label.grid(row=0, column=0, columnspan=2, sticky=W+E)\n",
        "entry.grid(row=1, column=0, columnspan=2, sticky=W+E)\n",
        "guess_button.grid(row=2, column=0)\n",
        "reset_button.grid(row=2, column=1)\n",
        "\n",
        "window.mainloop()"
      ],
      "metadata": {
        "id": "25CUAzxZPJjt"
      },
      "execution_count": null,
      "outputs": []
    },
    {
      "cell_type": "code",
      "source": [
        "from tkinter import *\n",
        "\n",
        "def do_convert():\n",
        "  inch_val = float(cvt_from.get())\n",
        "  centimeters_val = inch_val * 2.54\n",
        "  cvt_to.set('%s 센티미터' % centimeters_val)\n",
        "\n",
        "root = Tk()\n",
        "cvt_from = StringVar()\n",
        "cvt_to = StringVar()\n",
        "\n",
        "lbl = Label(root, text='인치를 센티미디로 변환하는 프로그램:')\n",
        "lbl.grid(row=0, column=0, columnspan=2)\n",
        "from_lbl = Label(root, text='인치를 입력하시오:')\n",
        "from_lbl.grid(row=1, column=0)\n",
        "from_entry = Entry(root, textvariable=cvt_from)\n",
        "from_entry.grid(row=1, column=1)\n",
        "\n",
        "to_lbl = Label(root, text='변환결과:')\n",
        "to_lbl.grid(row=2, column=0)\n",
        "result_lbl = Label(root,\n",
        "textvariable=cvt_to)\n",
        "result_lbl.grid(row=2, column=1)\n",
        "\n",
        "convert_btn = Button(root,\n",
        "text='변환!', command=do_convert)\n",
        "convert_btn.grid(row=3, column=1)\n",
        "root.mainloop()"
      ],
      "metadata": {
        "id": "qT7lUgwoP7-f"
      },
      "execution_count": null,
      "outputs": []
    }
  ]
}